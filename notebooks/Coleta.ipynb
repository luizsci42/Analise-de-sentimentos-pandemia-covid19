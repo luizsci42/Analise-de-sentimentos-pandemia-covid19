{
 "cells": [
  {
   "cell_type": "markdown",
   "source": [
    "Dado o baixo desempenho dos modelos, devido aos tweets rotulados como \"raiva\", se faz necessária uma nova coleta. Dessa vez, considerando a hashtag \"#ódio\"."
   ],
   "metadata": {
    "collapsed": false
   },
   "id": "8f2c0d617629f3a0"
  },
  {
   "cell_type": "code",
   "execution_count": 1,
   "id": "initial_id",
   "metadata": {
    "collapsed": true,
    "ExecuteTime": {
     "end_time": "2023-10-28T12:26:51.265651300Z",
     "start_time": "2023-10-28T12:26:45.539616900Z"
    }
   },
   "outputs": [],
   "source": [
    "import snscrape.modules.twitter as sntwitter\n",
    "import pandas as pd"
   ]
  },
  {
   "cell_type": "code",
   "execution_count": 4,
   "outputs": [],
   "source": [
    "# query = '(%23odio OR %23raiva)'\n",
    "query = 'Nollywood'\n",
    "odio_tag = sntwitter.TwitterSearchScraper(query=query)"
   ],
   "metadata": {
    "collapsed": false,
    "ExecuteTime": {
     "end_time": "2023-10-28T12:28:06.318012400Z",
     "start_time": "2023-10-28T12:28:06.285962800Z"
    }
   },
   "id": "11cdb3a5aa935e3e"
  },
  {
   "cell_type": "code",
   "execution_count": null,
   "outputs": [],
   "source": [
    "resultados = []\n",
    "\n",
    "for item in odio_tag.get_items():\n",
    "    resultados.append(item)\n",
    "    \n",
    "df = pd.DataFrame(resultados)\n",
    "df.head()"
   ],
   "metadata": {
    "collapsed": false
   },
   "id": "ad66ec06eaf5c946"
  }
 ],
 "metadata": {
  "kernelspec": {
   "display_name": "Python 3",
   "language": "python",
   "name": "python3"
  },
  "language_info": {
   "codemirror_mode": {
    "name": "ipython",
    "version": 2
   },
   "file_extension": ".py",
   "mimetype": "text/x-python",
   "name": "python",
   "nbconvert_exporter": "python",
   "pygments_lexer": "ipython2",
   "version": "2.7.6"
  }
 },
 "nbformat": 4,
 "nbformat_minor": 5
}
