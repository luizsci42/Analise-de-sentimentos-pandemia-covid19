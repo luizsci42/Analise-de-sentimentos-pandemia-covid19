{
 "cells": [
  {
   "cell_type": "raw",
   "source": [
    " #%% md\n",
    "Montar um ensemble para melhor previsão das classes de raiva e tristeza"
   ],
   "metadata": {
    "collapsed": false
   },
   "id": "8395a3b1f23253ef"
  },
  {
   "cell_type": "code",
   "execution_count": 8,
   "outputs": [],
   "source": [
    "import os\n",
    "import pickle\n",
    "import spacy\n",
    "import pandas as pd\n",
    "import numpy as np\n",
    "from spacy.cli import download\n",
    "from sklearn.linear_model import LogisticRegression\n",
    "from sklearn.model_selection import train_test_split\n",
    "from sklearn.ensemble import RandomForestClassifier, VotingClassifier\n",
    "from sklearn.metrics import classification_report"
   ],
   "metadata": {
    "collapsed": false,
    "ExecuteTime": {
     "end_time": "2023-10-25T11:24:44.079250100Z",
     "start_time": "2023-10-25T11:24:44.062264200Z"
    }
   },
   "id": "2019b417be76a9b9"
  },
  {
   "cell_type": "code",
   "execution_count": 2,
   "outputs": [],
   "source": [
    "def fazer_amostragem(train_dataset: pd.DataFrame):\n",
    "    \"\"\"\n",
    "\n",
    "    :param train_dataset:\n",
    "    :return:\n",
    "    \"\"\"\n",
    "    sentimentos = train_dataset['Sentimento'].unique()\n",
    "    df = pd.DataFrame([])\n",
    "\n",
    "    for sentimento in sentimentos:\n",
    "        df_filtrado = train_dataset.loc[train_dataset['Sentimento'] == sentimento][:600]\n",
    "        df = pd.concat([df, df_filtrado])\n",
    "\n",
    "    return df\n",
    "\n",
    "\n",
    "def ler_modelo(path: str):\n",
    "    return pickle.load(open(path, 'rb'))\n",
    "\n",
    "\n",
    "def salvar_modelo(path: str, modelo):\n",
    "    return pickle.dump(modelo, open(path, 'wb'))    \n",
    "\n",
    "\n",
    "def criar_embeddings(df_tweets):\n",
    "    try:\n",
    "        nlp = spacy.load('pt_core_news_lg')\n",
    "    except (IOError, OSError):\n",
    "        download('pt_core_news_lg')\n",
    "        nlp = spacy.load('pt_core_news_lg')\n",
    "    # desativamos todos os outros pipes que vem com o modelo nlp porque não preicsaremos deles\n",
    "    with nlp.disable_pipes():\n",
    "        # transformamos cada texto em um vetor e colocamos em uma array\n",
    "        print('Fazendo os word embeddings')\n",
    "        vetores = np.array([nlp(texto).vector for texto in df_tweets.Texto])\n",
    "\n",
    "    return vetores\n",
    "\n",
    "\n",
    "path_datasets = '../resources/datasets'\n",
    "\n",
    "# importação dos dados\n",
    "df_treinamento = pd.read_csv(\n",
    "    f'{path_datasets}/tweets_ekman.csv',\n",
    "    usecols=['Texto', 'Sentimento']\n",
    ").dropna()\n",
    "df_alvo = pd.read_csv(f'{path_datasets}/tweets_pandemia.csv')\n",
    "\n",
    "classes = [\"raiva\", \"triste\"]\n",
    "df_treinamento = df_treinamento[df_treinamento['Sentimento'].isin(classes)]\n",
    "\n",
    "x_train, x_test, y_train, y_test = train_test_split(\n",
    "    df_treinamento,\n",
    "    df_treinamento['Sentimento'],\n",
    "    test_size=0.2,\n",
    "    random_state=42\n",
    ")"
   ],
   "metadata": {
    "collapsed": false,
    "ExecuteTime": {
     "end_time": "2023-10-25T11:20:03.289670100Z",
     "start_time": "2023-10-25T11:20:02.960607400Z"
    }
   },
   "id": "3e6e474ac33a2a75"
  },
  {
   "cell_type": "code",
   "execution_count": 10,
   "outputs": [],
   "source": [
    "# processamento dos dados para word embeddings\n",
    "path_embeddings_treinamento = '../resources/modelos/embeddings_treinamento_logreg_2.pkl'\n",
    "path_embeddings_teste = '../resources/modelos/embeddings_teste_logreg_2.pkl'\n",
    "\n",
    "if os.path.exists(path_embeddings_treinamento):\n",
    "    embeddings = ler_modelo(path_embeddings_treinamento)\n",
    "else:\n",
    "    embeddings = criar_embeddings(x_train)\n",
    "    salvar_modelo(path_embeddings_treinamento, embeddings)\n",
    "\n",
    "if os.path.exists(path_embeddings_teste):\n",
    "    embeddings_teste = ler_modelo(path_embeddings_teste)\n",
    "else:\n",
    "    embeddings_teste = criar_embeddings(x_test)\n",
    "    salvar_modelo(path_embeddings_teste, embeddings_teste)\n",
    "# Train the first model\n",
    "logreg_um = ler_modelo('../resources/modelos/logreg_otimizado.pkl')\n",
    "logreg_um = logreg_um.best_estimator_\n",
    "logreg_dois = LogisticRegression(random_state=0, n_jobs=-1)"
   ],
   "metadata": {
    "collapsed": false,
    "ExecuteTime": {
     "end_time": "2023-10-25T11:25:00.643875800Z",
     "start_time": "2023-10-25T11:25:00.615429600Z"
    }
   },
   "id": "653028dfb21c7c0a"
  },
  {
   "cell_type": "code",
   "execution_count": 11,
   "outputs": [
    {
     "name": "stdout",
     "output_type": "stream",
     "text": [
      "              precision    recall  f1-score   support\n",
      "\n",
      "       raiva       0.66      0.28      0.40       551\n",
      "      triste       0.84      0.96      0.90      2129\n",
      "\n",
      "    accuracy                           0.82      2680\n",
      "   macro avg       0.75      0.62      0.65      2680\n",
      "weighted avg       0.80      0.82      0.79      2680\n"
     ]
    }
   ],
   "source": [
    "logreg_dois.fit(embeddings, y_train)\n",
    "previsoes_logreg_dois = logreg_dois.predict(embeddings_teste)\n",
    "print(classification_report(y_test, previsoes_logreg_dois))"
   ],
   "metadata": {
    "collapsed": false,
    "ExecuteTime": {
     "end_time": "2023-10-25T11:25:05.505420600Z",
     "start_time": "2023-10-25T11:25:00.638879400Z"
    }
   },
   "id": "908813fd10688e86"
  },
  {
   "cell_type": "code",
   "execution_count": 12,
   "outputs": [],
   "source": [
    "# importação dos dados\n",
    "df_treinamento_final = pd.read_csv(\n",
    "    f'{path_datasets}/tweets_ekman.csv',\n",
    "    usecols=['Texto', 'Sentimento']\n",
    ").dropna()\n",
    "df_alvo_final = pd.read_csv(f'{path_datasets}/tweets_pandemia.csv')\n",
    "\n",
    "x_train_final, x_test_final, y_train_final, y_test_final = train_test_split(\n",
    "    df_treinamento_final,\n",
    "    df_treinamento_final['Sentimento'],\n",
    "    test_size=0.2,\n",
    "    random_state=42\n",
    ")\n",
    "\n",
    "embeddings_final = ler_modelo('../resources/modelos/embeddings_treinamento.pkl')\n",
    "embeddings_teste_final = ler_modelo('../resources/modelos/embeddings_teste.pkl')"
   ],
   "metadata": {
    "collapsed": false,
    "ExecuteTime": {
     "end_time": "2023-10-25T11:25:05.759271400Z",
     "start_time": "2023-10-25T11:25:05.499428600Z"
    }
   },
   "id": "d918f61387850478"
  },
  {
   "cell_type": "code",
   "execution_count": 19,
   "id": "initial_id",
   "metadata": {
    "collapsed": true,
    "ExecuteTime": {
     "end_time": "2023-10-25T11:40:10.309070800Z",
     "start_time": "2023-10-25T11:39:28.242197100Z"
    }
   },
   "outputs": [
    {
     "name": "stderr",
     "output_type": "stream",
     "text": [
      "D:\\home\\Desenvolvimento\\Analise-de-sentimentos-pandemia-covid19\\emocoes_venv\\Lib\\site-packages\\sklearn\\linear_model\\_sag.py:350: ConvergenceWarning: The max_iter was reached which means the coef_ did not converge\n",
      "  warnings.warn(\n"
     ]
    },
    {
     "name": "stdout",
     "output_type": "stream",
     "text": [
      "              precision    recall  f1-score   support\n",
      "\n",
      "      Neutro       0.97      0.94      0.96       495\n",
      "       feliz       0.71      0.73      0.72      1931\n",
      "        medo       0.54      0.61      0.57      2320\n",
      "        nojo       0.61      0.63      0.62      1648\n",
      "       raiva       0.45      0.12      0.19       562\n",
      "      triste       0.52      0.53      0.53      2097\n",
      "\n",
      "    accuracy                           0.61      9053\n",
      "   macro avg       0.63      0.59      0.60      9053\n",
      "weighted avg       0.60      0.61      0.60      9053\n"
     ]
    }
   ],
   "source": [
    "# Create the voting classifier\n",
    "classifier = VotingClassifier(estimators=[('lgr_um', logreg_um), ('lgr_dois', logreg_dois)], voting=\"hard\", weights=[1, 2])\n",
    "classifier.fit(embeddings_final, y_train_final)\n",
    "\n",
    "# Make predictions\n",
    "previsoes_final = classifier.predict(embeddings_teste_final)\n",
    "\n",
    "# Evaluate the previsoes_final\n",
    "print(classification_report(y_test_final, previsoes_final))"
   ]
  },
  {
   "cell_type": "code",
   "execution_count": 3,
   "outputs": [
    {
     "data": {
      "text/plain": "                                                   Texto Sentimento\n891               o que você acha que falta em sua vida?      raiva\n1308                  deixe ir o que não te deixa feliz.      raiva\n4252   tudo o que você está com  agora está impedindo...      raiva\n10819             o que você acha que falta em sua vida?      raiva\n10888                                       arrisque-se!      raiva\n...                                                  ...        ...\n40161  transtorno explosivo intermitente: raiva sem l...      raiva\n40408  agora vão ficar espalhando q ele passa fome aq...      raiva\n41582                                        troca tudo!      raiva\n41924  meu deus como esse povo de brasilia eh ridicul...      raiva\n42461  isto é o que se vê agora mesmo desde a minha j...      raiva\n\n[2769 rows x 2 columns]",
      "text/html": "<div>\n<style scoped>\n    .dataframe tbody tr th:only-of-type {\n        vertical-align: middle;\n    }\n\n    .dataframe tbody tr th {\n        vertical-align: top;\n    }\n\n    .dataframe thead th {\n        text-align: right;\n    }\n</style>\n<table border=\"1\" class=\"dataframe\">\n  <thead>\n    <tr style=\"text-align: right;\">\n      <th></th>\n      <th>Texto</th>\n      <th>Sentimento</th>\n    </tr>\n  </thead>\n  <tbody>\n    <tr>\n      <th>891</th>\n      <td>o que você acha que falta em sua vida?</td>\n      <td>raiva</td>\n    </tr>\n    <tr>\n      <th>1308</th>\n      <td>deixe ir o que não te deixa feliz.</td>\n      <td>raiva</td>\n    </tr>\n    <tr>\n      <th>4252</th>\n      <td>tudo o que você está com  agora está impedindo...</td>\n      <td>raiva</td>\n    </tr>\n    <tr>\n      <th>10819</th>\n      <td>o que você acha que falta em sua vida?</td>\n      <td>raiva</td>\n    </tr>\n    <tr>\n      <th>10888</th>\n      <td>arrisque-se!</td>\n      <td>raiva</td>\n    </tr>\n    <tr>\n      <th>...</th>\n      <td>...</td>\n      <td>...</td>\n    </tr>\n    <tr>\n      <th>40161</th>\n      <td>transtorno explosivo intermitente: raiva sem l...</td>\n      <td>raiva</td>\n    </tr>\n    <tr>\n      <th>40408</th>\n      <td>agora vão ficar espalhando q ele passa fome aq...</td>\n      <td>raiva</td>\n    </tr>\n    <tr>\n      <th>41582</th>\n      <td>troca tudo!</td>\n      <td>raiva</td>\n    </tr>\n    <tr>\n      <th>41924</th>\n      <td>meu deus como esse povo de brasilia eh ridicul...</td>\n      <td>raiva</td>\n    </tr>\n    <tr>\n      <th>42461</th>\n      <td>isto é o que se vê agora mesmo desde a minha j...</td>\n      <td>raiva</td>\n    </tr>\n  </tbody>\n</table>\n<p>2769 rows × 2 columns</p>\n</div>"
     },
     "execution_count": 3,
     "metadata": {},
     "output_type": "execute_result"
    }
   ],
   "source": [
    "import pandas as pd\n",
    "\n",
    "path_datasets = '../resources/datasets'\n",
    "df = pd.read_csv(\n",
    "    f'{path_datasets}/tweets_ekman.csv',\n",
    "    usecols=['Texto', 'Sentimento']\n",
    ").dropna()\n",
    "\n",
    "df[df['Sentimento'].isin(['raiva'])]"
   ],
   "metadata": {
    "collapsed": false,
    "ExecuteTime": {
     "end_time": "2023-10-25T11:57:40.060451Z",
     "start_time": "2023-10-25T11:57:39.787087200Z"
    }
   },
   "id": "4e718669d0ecaad1"
  }
 ],
 "metadata": {
  "kernelspec": {
   "display_name": "Python 3",
   "language": "python",
   "name": "python3"
  },
  "language_info": {
   "codemirror_mode": {
    "name": "ipython",
    "version": 2
   },
   "file_extension": ".py",
   "mimetype": "text/x-python",
   "name": "python",
   "nbconvert_exporter": "python",
   "pygments_lexer": "ipython2",
   "version": "2.7.6"
  }
 },
 "nbformat": 4,
 "nbformat_minor": 5
}
