{
 "nbformat": 4,
 "nbformat_minor": 0,
 "metadata": {
  "colab": {
   "name": "4.2 - Análise de Emoções na Pandemia (SpaCy e Scikit).ipynb",
   "provenance": [],
   "collapsed_sections": [],
   "mount_file_id": "1t62cQfqDYSMX5ANjq_Zz5yYFm20bk0C0",
   "authorship_tag": "ABX9TyMyrLNZgYeAc0ggKuPkk0sq"
  },
  "kernelspec": {
   "name": "python3",
   "language": "python",
   "display_name": "Python 3"
  },
  "language_info": {
   "name": "python"
  }
 },
 "cells": [
  {
   "cell_type": "code",
   "metadata": {
    "id": "NUc_jjPrBgBV",
    "colab": {
     "base_uri": "https://localhost:8080/",
     "height": 206
    },
    "executionInfo": {
     "status": "ok",
     "timestamp": 1618283349614,
     "user_tz": 180,
     "elapsed": 2810,
     "user": {
      "displayName": "Luiz Felipe Souza",
      "photoUrl": "https://lh3.googleusercontent.com/a-/AOh14GhBIy3CyWKHrF9SJfd1H3N0IQfmYADDr6b8RQ45Vg=s64",
      "userId": "15057065475442044452"
     }
    },
    "outputId": "edca4345-31db-44b0-f8e4-b538248a0ea1"
   },
   "source": [
    "import pandas as pd\n",
    "\n",
    "def tratar_data(data):\n",
    "  \"\"\"\n",
    "  Faz o tratamento da coluna de Datas para que o pandas reconheça os valores como\n",
    "  referentes a um instante de tempo e não como uma string\n",
    "  \"\"\"\n",
    "  return pd.Timestamp(data)\n",
    "\n",
    "path = 'datasets/'\n",
    "arquivo = path + 'previsoes_no_dataset_alvo.csv'\n",
    "\n",
    "# abrimos o arquivo como um DataFrame, especificando a coluna que deve ser tratada e a função de tratamento\n",
    "emocoes_pandemia = pd.read_csv(arquivo, parse_dates=[3], date_parser=tratar_data)\n",
    "# ordenamos os dados por tempo\n",
    "emocoes_pandemia = emocoes_pandemia.sort_values(by='Datas')\n",
    "# mostra as 5 prmeiras linhas do DataFrame\n",
    "emocoes_pandemia.head()"
   ],
   "execution_count": 1,
   "outputs": [
    {
     "output_type": "execute_result",
     "data": {
      "text/html": [
       "<div>\n",
       "<style scoped>\n",
       "    .dataframe tbody tr th:only-of-type {\n",
       "        vertical-align: middle;\n",
       "    }\n",
       "\n",
       "    .dataframe tbody tr th {\n",
       "        vertical-align: top;\n",
       "    }\n",
       "\n",
       "    .dataframe thead th {\n",
       "        text-align: right;\n",
       "    }\n",
       "</style>\n",
       "<table border=\"1\" class=\"dataframe\">\n",
       "  <thead>\n",
       "    <tr style=\"text-align: right;\">\n",
       "      <th></th>\n",
       "      <th>Unnamed: 0</th>\n",
       "      <th>Textos</th>\n",
       "      <th>Sentimentos</th>\n",
       "      <th>Datas</th>\n",
       "    </tr>\n",
       "  </thead>\n",
       "  <tbody>\n",
       "    <tr>\n",
       "      <th>31</th>\n",
       "      <td>31</td>\n",
       "      <td>Tedros Adhanom Ghebreyesus, diretor da OMS, em...</td>\n",
       "      <td>medo</td>\n",
       "      <td>2020-04-01 22:25:07+00:00</td>\n",
       "    </tr>\n",
       "    <tr>\n",
       "      <th>20</th>\n",
       "      <td>20</td>\n",
       "      <td>Muitas dúvidas permanecem entre serviços que p...</td>\n",
       "      <td>raiva</td>\n",
       "      <td>2020-04-01 22:28:52+00:00</td>\n",
       "    </tr>\n",
       "    <tr>\n",
       "      <th>5</th>\n",
       "      <td>5</td>\n",
       "      <td>Jovem de 20 anos da etnia kokama recebe teste ...</td>\n",
       "      <td>medo</td>\n",
       "      <td>2020-04-01 22:29:15+00:00</td>\n",
       "    </tr>\n",
       "    <tr>\n",
       "      <th>8</th>\n",
       "      <td>8</td>\n",
       "      <td>Dois óbitos na Praia Grande por COVID-19. \\n\\n...</td>\n",
       "      <td>Neutro</td>\n",
       "      <td>2020-04-01 22:33:55+00:00</td>\n",
       "    </tr>\n",
       "    <tr>\n",
       "      <th>39</th>\n",
       "      <td>39</td>\n",
       "      <td>Publiquei na ⁦\\n@CNNBrasil\\n ⁩ OAB pede, e STF...</td>\n",
       "      <td>nojo</td>\n",
       "      <td>2020-04-01 22:35:15+00:00</td>\n",
       "    </tr>\n",
       "  </tbody>\n",
       "</table>\n",
       "</div>"
      ],
      "text/plain": [
       "    Unnamed: 0  ...                     Datas\n",
       "31          31  ... 2020-04-01 22:25:07+00:00\n",
       "20          20  ... 2020-04-01 22:28:52+00:00\n",
       "5            5  ... 2020-04-01 22:29:15+00:00\n",
       "8            8  ... 2020-04-01 22:33:55+00:00\n",
       "39          39  ... 2020-04-01 22:35:15+00:00\n",
       "\n",
       "[5 rows x 4 columns]"
      ]
     },
     "metadata": {
      "tags": []
     },
     "execution_count": 1
    }
   ]
  },
  {
   "cell_type": "markdown",
   "metadata": {
    "id": "tJjskO1DOaXc"
   },
   "source": [
    "Vmoas montar um gráfico de linha, em que o eixo x corresponda ao tempo e o y ao número de tweets naquele momento. O parâmetro label corresponde ao sentimento em determinado momento.\n",
    "\n",
    "Este exemplo do matplotlib pode nos ajudar a fazer linhas multicoloridas: https://matplotlib.org/stable/gallery/lines_bars_and_markers/multicolored_line.html#sphx-glr-gallery-lines-bars-and-markers-multicolored-line-py"
   ]
  },
  {
   "cell_type": "code",
   "metadata": {
    "id": "VDQSn_tTFXdp",
    "colab": {
     "base_uri": "https://localhost:8080/",
     "height": 518
    },
    "executionInfo": {
     "status": "ok",
     "timestamp": 1618286580037,
     "user_tz": 180,
     "elapsed": 2231,
     "user": {
      "displayName": "Luiz Felipe Souza",
      "photoUrl": "https://lh3.googleusercontent.com/a-/AOh14GhBIy3CyWKHrF9SJfd1H3N0IQfmYADDr6b8RQ45Vg=s64",
      "userId": "15057065475442044452"
     }
    },
    "outputId": "3d886493-dde1-4dd2-ad95-9112641b0bd0",
    "pycharm": {
     "name": "#%%\n"
    }
   },
   "source": [
    "import matplotlib.pyplot as plt\n",
    "import matplotlib.dates as md\n",
    "import datetime as dt\n",
    "import seaborn as sns\n",
    "import numpy as np\n",
    "\n",
    "sentimentos = emocoes_pandemia['Sentimentos'].to_list()\n",
    "n_tweets = emocoes_pandemia.value_counts('Datas').to_list()\n",
    "tempo = emocoes_pandemia.groupby('Datas')\n",
    "tempo = list(tempo.indices)\n",
    "\n",
    "sns.set()\n",
    "fig, ax = plt.subplots(2, 1, figsize=(23,8))\n",
    "\n",
    "ax[0].plot(tempo[:8423], n_tweets[:8423])\n",
    "ax[0].set_ylabel('Sentimento')\n",
    "ax[0].set_title('Variação de emoções durante a pandemia de COVID-19')\n",
    "\n",
    "ax[1].plot(tempo[8423:16847], n_tweets[8423:16847])\n",
    "ax[1].set_xlabel('Data')\n",
    "\n",
    "fig.savefig('img/graph.png')"
   ],
   "execution_count": 87,
   "outputs": [
    {
     "output_type": "display_data",
     "data": {
      "image/png": "[encoded data removed]",
      "text/plain": [
       "<Figure size 1656x576 with 2 Axes>"
      ]
     },
     "metadata": {
      "tags": []
     }
    }
   ]
  }
 ]
}