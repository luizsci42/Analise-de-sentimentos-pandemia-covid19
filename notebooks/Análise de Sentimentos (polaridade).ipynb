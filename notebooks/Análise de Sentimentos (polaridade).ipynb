{
 "cells": [
  {
   "cell_type": "code",
   "execution_count": 1,
   "metadata": {},
   "outputs": [],
   "source": [
    "import pandas as pd\n",
    "import numpy as np\n",
    "import spacy\n",
    "from sklearn.model_selection import train_test_split\n",
    "from sklearn.tree import DecisionTreeClassifier\n",
    "from sklearn.ensemble import RandomForestClassifier\n",
    "from sklearn.svm import LinearSVC\n",
    "from sklearn.metrics import classification_report\n",
    "from spacy.cli.download import download"
   ]
  },
  {
   "cell_type": "code",
   "execution_count": 2,
   "metadata": {},
   "outputs": [],
   "source": [
    "def criar_embeddings(df_tweets: pd.Series):\n",
    "    df_tweets.dropna(inplace=True)\n",
    "    try:\n",
    "        nlp = spacy.load('pt_core_news_lg')\n",
    "    except (IOError, OSError):\n",
    "        download('pt_core_news_lg')\n",
    "        nlp = spacy.load('pt_core_news_lg')\n",
    "    # desativamos todos os outros pipes que vem com o modelo nlp porque não preicsaremos deles\n",
    "    with nlp.disable_pipes():\n",
    "        # transformamos cada texto em um vetor e colocamos em uma array\n",
    "        print('Fazendo os word embeddings')\n",
    "        vetores = np.array([nlp(texto).vector for texto in df_tweets])\n",
    "\n",
    "    return vetores"
   ]
  },
  {
   "cell_type": "markdown",
   "metadata": {},
   "source": [
    "## Análise de polaridade de sentimentos"
   ]
  },
  {
   "cell_type": "code",
   "execution_count": 3,
   "metadata": {},
   "outputs": [
    {
     "name": "stdout",
     "output_type": "stream",
     "text": [
      "Fazendo os word embeddings\n",
      "Fazendo os word embeddings\n"
     ]
    },
    {
     "name": "stderr",
     "output_type": "stream",
     "text": [
      "c:\\Users\\sefaz\\Documents\\Projetos Python\\Analise-de-sentimentos-pandemia-covid19\\tweets_venv\\Lib\\site-packages\\sklearn\\svm\\_base.py:1250: ConvergenceWarning: Liblinear failed to converge, increase the number of iterations.\n",
      "  warnings.warn(\n"
     ]
    }
   ],
   "source": [
    "# importação dos dados\n",
    "path_datasets = '../resources/datasets'\n",
    "\n",
    "df_treinamento = pd.read_csv(\n",
    "    f'{path_datasets}/Tweets_Mg.csv',\n",
    "    usecols=['Text', 'Classificacao']\n",
    ")\n",
    "df_alvo = pd.read_csv(f'{path_datasets}/tweets_pandemia.csv')\n",
    "\n",
    "x_train, x_test, y_train, y_test = train_test_split(\n",
    "    df_treinamento,\n",
    "    df_treinamento['Classificacao'],\n",
    "    test_size=0.2,\n",
    "    random_state=42\n",
    ")\n",
    "\n",
    "# processamento dos dados para word embeddings\n",
    "embeddings = criar_embeddings(x_train['Text'])\n",
    "embeddings_teste = criar_embeddings(x_test['Text'])\n",
    "\n",
    "# algoritmos de aprendizado de máquina para serem treinados\n",
    "svc = LinearSVC(C=100, random_state=0, dual=True, max_iter=10000)\n",
    "tree = DecisionTreeClassifier(random_state=0)\n",
    "forest = RandomForestClassifier(random_state=0)\n",
    "\n",
    "# treinamento dos algoritmos\n",
    "svc.fit(embeddings, y_train)\n",
    "tree.fit(embeddings, y_train)\n",
    "forest.fit(embeddings, y_train)\n",
    "\n",
    "# previsões\n",
    "previsoes_svc = svc.predict(embeddings_teste)\n",
    "previsoes_tree = tree.predict(embeddings_teste)\n",
    "previsoes_forest = forest.predict(embeddings_teste)"
   ]
  },
  {
   "cell_type": "code",
   "execution_count": 4,
   "metadata": {},
   "outputs": [
    {
     "name": "stdout",
     "output_type": "stream",
     "text": [
      "Relatório Linear SVC\n",
      "              precision    recall  f1-score   support\n",
      "\n",
      "    Negativo       0.94      0.97      0.95       476\n",
      "      Neutro       0.95      0.89      0.92       503\n",
      "    Positivo       0.95      0.96      0.96       661\n",
      "\n",
      "    accuracy                           0.95      1640\n",
      "   macro avg       0.94      0.94      0.94      1640\n",
      "weighted avg       0.95      0.95      0.94      1640\n",
      "\n"
     ]
    }
   ],
   "source": [
    "# testar performance\n",
    "print('Relatório Linear SVC')\n",
    "print(classification_report(y_test, previsoes_svc))"
   ]
  },
  {
   "cell_type": "code",
   "execution_count": 5,
   "metadata": {},
   "outputs": [
    {
     "name": "stdout",
     "output_type": "stream",
     "text": [
      "Relatório Decision Tree\n",
      "              precision    recall  f1-score   support\n",
      "\n",
      "    Negativo       0.89      0.93      0.91       476\n",
      "      Neutro       0.84      0.81      0.82       503\n",
      "    Positivo       0.90      0.89      0.89       661\n",
      "\n",
      "    accuracy                           0.88      1640\n",
      "   macro avg       0.87      0.88      0.88      1640\n",
      "weighted avg       0.88      0.88      0.88      1640\n",
      "\n"
     ]
    }
   ],
   "source": [
    "print('Relatório Decision Tree')\n",
    "print(classification_report(y_test, previsoes_tree))"
   ]
  },
  {
   "cell_type": "code",
   "execution_count": 6,
   "metadata": {},
   "outputs": [
    {
     "name": "stdout",
     "output_type": "stream",
     "text": [
      "Relatório Random Forest\n",
      "              precision    recall  f1-score   support\n",
      "\n",
      "    Negativo       0.99      0.94      0.96       476\n",
      "      Neutro       0.88      0.93      0.90       503\n",
      "    Positivo       0.95      0.95      0.95       661\n",
      "\n",
      "    accuracy                           0.94      1640\n",
      "   macro avg       0.94      0.94      0.94      1640\n",
      "weighted avg       0.94      0.94      0.94      1640\n",
      "\n"
     ]
    }
   ],
   "source": [
    "print('Relatório Random Forest')\n",
    "print(classification_report(y_test, previsoes_forest))"
   ]
  },
  {
   "cell_type": "markdown",
   "metadata": {},
   "source": [
    "O modelo LinearSVC obteve o melhor desempenho em f1-score. Iremos utilizá-lo para a análise de sentimentos dos tweets relacionados à pandemia de Covid-19"
   ]
  },
  {
   "cell_type": "markdown",
   "metadata": {},
   "source": [
    "## Análise de polaridade nos Tweets da pandemia de Covid-19"
   ]
  },
  {
   "cell_type": "code",
   "execution_count": 52,
   "metadata": {},
   "outputs": [],
   "source": [
    "def fazer_previsoes(df_tweets: pd.DataFrame, modelo):\n",
    "    nlp = spacy.load('pt_core_news_lg')\n",
    "    \n",
    "    textos = list(df_tweets)\n",
    "    sentimentos = []\n",
    "\n",
    "    for texto in textos:\n",
    "        # print('Frase: ' + texto)\n",
    "        try:\n",
    "            # tokenizamos a frase, vetorizamos e colocamos em uma array\n",
    "            vetor = np.array(nlp(texto).vector)\n",
    "            # colocamos o vetor no formato 1x300, que é o que o svc espera\n",
    "            vetor = np.reshape(vetor, (1, 300))\n",
    "        except TypeError:\n",
    "            texto = str(texto)\n",
    "            vetor = np.array(nlp(texto).vector)\n",
    "            vetor = np.reshape(vetor, (1, 300))\n",
    "        # fazemos a previsão e retornamos a classe\n",
    "        previsao = modelo.predict(vetor)[0]\n",
    "        # print(\"Sentimento: \" + previsao + '\\n')\n",
    "        sentimentos.append(previsao)\n",
    "\n",
    "    # datas = list(df_tweets['Data'])\n",
    "    dados = {'Texto': textos, 'Sentimento': sentimentos}\n",
    "    df_saida = pd.DataFrame(dados)\n",
    "    \n",
    "    return df_saida"
   ]
  },
  {
   "cell_type": "code",
   "execution_count": 55,
   "metadata": {},
   "outputs": [],
   "source": [
    "df_previsoes = fazer_previsoes(df_alvo['Texto'], svc)"
   ]
  },
  {
   "cell_type": "code",
   "execution_count": 58,
   "metadata": {},
   "outputs": [
    {
     "data": {
      "text/plain": [
       "Sentimento\n",
       "Neutro      9157\n",
       "Positivo    5779\n",
       "Negativo    2065\n",
       "Name: count, dtype: int64"
      ]
     },
     "execution_count": 58,
     "metadata": {},
     "output_type": "execute_result"
    }
   ],
   "source": [
    "df_previsoes['Sentimento'].value_counts()"
   ]
  }
 ],
 "metadata": {
  "kernelspec": {
   "display_name": "tweets_venv",
   "language": "python",
   "name": "python3"
  },
  "language_info": {
   "codemirror_mode": {
    "name": "ipython",
    "version": 3
   },
   "file_extension": ".py",
   "mimetype": "text/x-python",
   "name": "python",
   "nbconvert_exporter": "python",
   "pygments_lexer": "ipython3",
   "version": "3.11.2"
  },
  "orig_nbformat": 4
 },
 "nbformat": 4,
 "nbformat_minor": 2
}
