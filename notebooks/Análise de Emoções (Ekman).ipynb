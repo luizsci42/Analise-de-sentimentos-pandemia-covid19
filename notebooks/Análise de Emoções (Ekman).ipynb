{
 "cells": [
  {
   "cell_type": "code",
   "execution_count": 5,
   "metadata": {},
   "outputs": [],
   "source": [
    "import pandas as pd\n",
    "import numpy as np\n",
    "import spacy\n",
    "from sklearn.model_selection import train_test_split\n",
    "from sklearn.tree import DecisionTreeClassifier\n",
    "from sklearn.ensemble import RandomForestClassifier\n",
    "from sklearn.svm import LinearSVC\n",
    "from sklearn.metrics import classification_report\n",
    "from spacy.cli.download import download"
   ]
  },
  {
   "cell_type": "code",
   "execution_count": 6,
   "metadata": {},
   "outputs": [],
   "source": [
    "def criar_embeddings(df_tweets):\n",
    "    try:\n",
    "        nlp = spacy.load('pt_core_news_lg')\n",
    "    except (IOError, OSError):\n",
    "        download('pt_core_news_lg')\n",
    "        nlp = spacy.load('pt_core_news_lg')\n",
    "    # desativamos todos os outros pipes que vem com o modelo nlp porque não preicsaremos deles\n",
    "    with nlp.disable_pipes():\n",
    "        # transformamos cada texto em um vetor e colocamos em uma array\n",
    "        print('Fazendo os word embeddings')\n",
    "        vetores = np.array([nlp(texto).vector for texto in df_tweets.Texto])\n",
    "\n",
    "    return vetores"
   ]
  },
  {
   "cell_type": "code",
   "execution_count": 7,
   "metadata": {},
   "outputs": [
    {
     "name": "stdout",
     "output_type": "stream",
     "text": [
      "Fazendo os word embeddings\n",
      "Fazendo os word embeddings\n"
     ]
    },
    {
     "name": "stderr",
     "output_type": "stream",
     "text": [
      "c:\\Users\\sefaz\\Documents\\Projetos Python\\Analise-de-sentimentos-pandemia-covid19\\tweets_venv\\Lib\\site-packages\\sklearn\\svm\\_base.py:1250: ConvergenceWarning: Liblinear failed to converge, increase the number of iterations.\n",
      "  warnings.warn(\n"
     ]
    }
   ],
   "source": [
    "path_datasets = '../resources/datasets'\n",
    "\n",
    "# importação dos dados\n",
    "df_treinamento = pd.read_csv(\n",
    "    f'{path_datasets}/tweets_ekman.csv',\n",
    "    usecols=['Texto', 'Sentimento']\n",
    ").dropna()\n",
    "df_alvo = pd.read_csv(f'{path_datasets}/tweets_pandemia.csv')\n",
    "\n",
    "x_train, x_test, y_train, y_test = train_test_split(\n",
    "    df_treinamento,\n",
    "    df_treinamento['Sentimento'],\n",
    "    test_size=0.2,\n",
    "    random_state=42\n",
    ")\n",
    "\n",
    "# processamento dos dados para word embeddings\n",
    "embeddings = criar_embeddings(x_train)\n",
    "embeddings_teste = criar_embeddings(x_test)\n",
    "\n",
    "# algoritmos de aprendizado de máquina para serem treinados\n",
    "svc = LinearSVC(C=100, random_state=0, dual=True, max_iter=10000)\n",
    "tree = DecisionTreeClassifier(random_state=0)\n",
    "forest = RandomForestClassifier(random_state=0)\n",
    "\n",
    "# treinamento dos algoritmos\n",
    "svc.fit(embeddings, y_train)\n",
    "tree.fit(embeddings, y_train)\n",
    "forest.fit(embeddings, y_train)\n",
    "\n",
    "# previsões\n",
    "previsoes_svc = svc.predict(embeddings_teste)\n",
    "previsoes_tree = tree.predict(embeddings_teste)\n",
    "previsoes_forest = forest.predict(embeddings_teste)"
   ]
  },
  {
   "cell_type": "code",
   "execution_count": 8,
   "metadata": {},
   "outputs": [
    {
     "name": "stdout",
     "output_type": "stream",
     "text": [
      "Relatório Linear SVC\n",
      "              precision    recall  f1-score   support\n",
      "\n",
      "      Neutro       0.96      0.94      0.95       495\n",
      "       feliz       0.74      0.45      0.56      1931\n",
      "        medo       0.35      0.83      0.50      2320\n",
      "        nojo       0.50      0.24      0.32      1648\n",
      "       raiva       0.13      0.18      0.16       562\n",
      "      triste       0.45      0.08      0.14      2097\n",
      "\n",
      "    accuracy                           0.43      9053\n",
      "   macro avg       0.52      0.45      0.44      9053\n",
      "weighted avg       0.50      0.43      0.40      9053\n",
      "\n"
     ]
    }
   ],
   "source": [
    "# testar performance\n",
    "print('Relatório Linear SVC')\n",
    "print(classification_report(y_test, previsoes_svc))"
   ]
  },
  {
   "cell_type": "code",
   "execution_count": 9,
   "metadata": {},
   "outputs": [
    {
     "name": "stdout",
     "output_type": "stream",
     "text": [
      "Relatório Decision Tree\n",
      "              precision    recall  f1-score   support\n",
      "\n",
      "      Neutro       0.78      0.80      0.79       495\n",
      "       feliz       0.48      0.47      0.48      1931\n",
      "        medo       0.37      0.37      0.37      2320\n",
      "        nojo       0.32      0.31      0.32      1648\n",
      "       raiva       0.11      0.12      0.12       562\n",
      "      triste       0.34      0.35      0.34      2097\n",
      "\n",
      "    accuracy                           0.38      9053\n",
      "   macro avg       0.40      0.40      0.40      9053\n",
      "weighted avg       0.39      0.38      0.39      9053\n",
      "\n"
     ]
    }
   ],
   "source": [
    "print('Relatório Decision Tree')\n",
    "print(classification_report(y_test, previsoes_tree))"
   ]
  },
  {
   "cell_type": "code",
   "execution_count": 11,
   "metadata": {},
   "outputs": [
    {
     "name": "stdout",
     "output_type": "stream",
     "text": [
      "Relatório Random Forest\n",
      "              precision    recall  f1-score   support\n",
      "\n",
      "      Neutro       0.95      0.87      0.91       495\n",
      "       feliz       0.63      0.66      0.64      1931\n",
      "        medo       0.45      0.56      0.50      2320\n",
      "        nojo       0.48      0.43      0.46      1648\n",
      "       raiva       0.96      0.05      0.09       562\n",
      "      triste       0.45      0.47      0.46      2097\n",
      "\n",
      "    accuracy                           0.52      9053\n",
      "   macro avg       0.66      0.51      0.51      9053\n",
      "weighted avg       0.55      0.52      0.51      9053\n",
      "\n"
     ]
    }
   ],
   "source": [
    "print('Relatório Random Forest')\n",
    "print(classification_report(y_test, previsoes_forest))"
   ]
  }
 ],
 "metadata": {
  "kernelspec": {
   "display_name": "tweets_venv",
   "language": "python",
   "name": "python3"
  },
  "language_info": {
   "codemirror_mode": {
    "name": "ipython",
    "version": 3
   },
   "file_extension": ".py",
   "mimetype": "text/x-python",
   "name": "python",
   "nbconvert_exporter": "python",
   "pygments_lexer": "ipython3",
   "version": "3.11.2"
  }
 },
 "nbformat": 4,
 "nbformat_minor": 2
}
