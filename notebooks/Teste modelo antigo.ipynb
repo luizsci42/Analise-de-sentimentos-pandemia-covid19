{
 "cells": [
  {
   "cell_type": "code",
   "execution_count": 1,
   "metadata": {},
   "outputs": [
    {
     "ename": "TypeError",
     "evalue": "a bytes-like object is required, not 'str'",
     "output_type": "error",
     "traceback": [
      "\u001b[1;31m---------------------------------------------------------------------------\u001b[0m",
      "\u001b[1;31mTypeError\u001b[0m                                 Traceback (most recent call last)",
      "Cell \u001b[1;32mIn[1], line 7\u001b[0m\n\u001b[0;32m      4\u001b[0m warnings\u001b[38;5;241m.\u001b[39msimplefilter(\u001b[38;5;124m\"\u001b[39m\u001b[38;5;124merror\u001b[39m\u001b[38;5;124m\"\u001b[39m, InconsistentVersionWarning)\n\u001b[0;32m      6\u001b[0m \u001b[38;5;28;01mtry\u001b[39;00m:\n\u001b[1;32m----> 7\u001b[0m     est \u001b[38;5;241m=\u001b[39m \u001b[43mpickle\u001b[49m\u001b[38;5;241;43m.\u001b[39;49m\u001b[43mloads\u001b[49m\u001b[43m(\u001b[49m\u001b[38;5;124;43m\"\u001b[39;49m\u001b[38;5;124;43m../resources/modelos/modelo_classificacao)svc.pkl\u001b[39;49m\u001b[38;5;124;43m\"\u001b[39;49m\u001b[43m)\u001b[49m\n\u001b[0;32m      8\u001b[0m \u001b[38;5;28;01mexcept\u001b[39;00m InconsistentVersionWarning \u001b[38;5;28;01mas\u001b[39;00m w:\n\u001b[0;32m      9\u001b[0m     \u001b[38;5;28mprint\u001b[39m(w\u001b[38;5;241m.\u001b[39moriginal_sklearn_version)\n",
      "\u001b[1;31mTypeError\u001b[0m: a bytes-like object is required, not 'str'"
     ]
    }
   ],
   "source": [
    "import pickle\n",
    "import warnings\n",
    "from sklearn.exceptions import InconsistentVersionWarning\n",
    "warnings.simplefilter(\"error\", InconsistentVersionWarning)\n",
    "\n",
    "try:\n",
    "    est = pickle.loads(\"../resources/modelos/modelo_classificacao)svc.pkl\")\n",
    "except InconsistentVersionWarning as w:\n",
    "    print(w.original_sklearn_version)"
   ]
  }
 ],
 "metadata": {
  "kernelspec": {
   "display_name": "tweets_venv",
   "language": "python",
   "name": "python3"
  },
  "language_info": {
   "codemirror_mode": {
    "name": "ipython",
    "version": 3
   },
   "file_extension": ".py",
   "mimetype": "text/x-python",
   "name": "python",
   "nbconvert_exporter": "python",
   "pygments_lexer": "ipython3",
   "version": "3.11.2"
  }
 },
 "nbformat": 4,
 "nbformat_minor": 2
}
